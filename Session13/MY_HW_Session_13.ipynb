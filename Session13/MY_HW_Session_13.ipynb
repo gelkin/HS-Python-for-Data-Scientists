{
 "cells": [
  {
   "cell_type": "markdown",
   "metadata": {},
   "source": [
    "# Task 1"
   ]
  },
  {
   "cell_type": "code",
   "execution_count": 1,
   "metadata": {
    "collapsed": false
   },
   "outputs": [],
   "source": [
    "import matplotlib.pyplot as plt\n",
    "import numpy as np\n",
    "from bs4 import BeautifulSoup as bs\n",
    "from sklearn.feature_extraction.text import HashingVectorizer\n",
    "from sklearn.neighbors import KNeighborsClassifier\n",
    "from sklearn.linear_model import LogisticRegression\n",
    "from sklearn.tree import DecisionTreeClassifier\n",
    "from os import listdir\n",
    "from sklearn import model_selection\n",
    "from sklearn.svm import SVC\n",
    "from sklearn.base import BaseEstimator, ClassifierMixin\n",
    "from sklearn.metrics import classification_report\n",
    "from sklearn.metrics import confusion_matrix\n",
    "from sklearn.metrics import accuracy_score"
   ]
  },
  {
   "cell_type": "code",
   "execution_count": 2,
   "metadata": {
    "collapsed": true
   },
   "outputs": [],
   "source": [
    "path = \"./Data/\""
   ]
  },
  {
   "cell_type": "code",
   "execution_count": 71,
   "metadata": {
    "collapsed": true
   },
   "outputs": [],
   "source": [
    "def make_corpus_for_one(data):\n",
    "    bodies = []\n",
    "    for line in data:\n",
    "        parts_span = line.split('\"<span')\n",
    "        parts_mark_title = parts_span[0].split()\n",
    "        mark = int(parts_mark_title[0][0])\n",
    "        if mark in {1, 5}:\n",
    "            continue  # seems that such reviews are not really informative\n",
    "        body_html = \"<span\" + parts_span[1][:-1]\n",
    "        body_text = bs(body_html).text\n",
    "        bodies.append(body_text)\n",
    "    return bodies  # take only bodies"
   ]
  },
  {
   "cell_type": "code",
   "execution_count": 133,
   "metadata": {
    "collapsed": true
   },
   "outputs": [],
   "source": [
    "def make_corpus(path, n_max_files=2, n_max_elements=5000):\n",
    "    bookname = []\n",
    "    X = []\n",
    "    y = []\n",
    "    hv = HashingVectorizer(n_features=1000)\n",
    "    for filename in [f for f in listdir(path) if f.endswith('.csv')][:n_max_files]:\n",
    "        with open(path + filename, 'r') as file:\n",
    "            data = file.read().splitlines()[:n_max_elements]\n",
    "        bodies = make_corpus_for_one(data) # todo so far take only bodies\n",
    "        X.append(hv.transform(bodies).toarray())\n",
    "        y.append(np.repeat(len(bookname), len(bodies)))\n",
    "        bookname.append(filename.rstrip('.csv'))\n",
    "    return np.concatenate(X), np.concatenate(y), bookname"
   ]
  },
  {
   "cell_type": "code",
   "execution_count": 134,
   "metadata": {
    "collapsed": false
   },
   "outputs": [
    {
     "name": "stderr",
     "output_type": "stream",
     "text": [
      "/home/gelkin/.local/lib/python3.5/site-packages/bs4/__init__.py:181: UserWarning: No parser was explicitly specified, so I'm using the best available HTML parser for this system (\"lxml\"). This usually isn't a problem, but if you run this code on another system, or in a different virtual environment, it may use a different parser and behave differently.\n",
      "\n",
      "The code that caused this warning is on line 184 of the file /home/gelkin/Development/anaconda3/lib/python3.5/runpy.py. To get rid of this warning, change code that looks like this:\n",
      "\n",
      " BeautifulSoup([your markup])\n",
      "\n",
      "to this:\n",
      "\n",
      " BeautifulSoup([your markup], \"lxml\")\n",
      "\n",
      "  markup_type=markup_type))\n"
     ]
    }
   ],
   "source": [
    "X, y, bookname = make_corpus(path, n_max_files=2)"
   ]
  },
  {
   "cell_type": "code",
   "execution_count": 135,
   "metadata": {
    "collapsed": false
   },
   "outputs": [
    {
     "data": {
      "text/plain": [
       "(4529, 1000)"
      ]
     },
     "execution_count": 135,
     "metadata": {},
     "output_type": "execute_result"
    }
   ],
   "source": [
    "X.shape"
   ]
  },
  {
   "cell_type": "code",
   "execution_count": 136,
   "metadata": {
    "collapsed": false
   },
   "outputs": [
    {
     "data": {
      "text/plain": [
       "['Fillian_Flynn-Gone_Girl', 'Suzanne-Collins-The-Hunger-Game']"
      ]
     },
     "execution_count": 136,
     "metadata": {},
     "output_type": "execute_result"
    }
   ],
   "source": [
    "bookname"
   ]
  },
  {
   "cell_type": "code",
   "execution_count": 137,
   "metadata": {
    "collapsed": false
   },
   "outputs": [],
   "source": [
    "validation_size = 0.20\n",
    "seed = 7\n",
    "X_train, X_validation, y_train, y_validation = model_selection.train_test_split(X,\\\n",
    "                                                                                y,\\\n",
    "                                                                                test_size=validation_size,\\\n",
    "                                                                                random_state=seed)"
   ]
  },
  {
   "cell_type": "code",
   "execution_count": 140,
   "metadata": {
    "collapsed": true
   },
   "outputs": [],
   "source": [
    "# Test options and evaluation metric\n",
    "seed = 7\n",
    "scoring = 'accuracy'\n",
    "\n",
    "# Set up algorithms\n",
    "models = []\n",
    "models.append(('LR', LogisticRegression()))\n",
    "models.append(('CART', DecisionTreeClassifier()))"
   ]
  },
  {
   "cell_type": "code",
   "execution_count": 141,
   "metadata": {
    "collapsed": false
   },
   "outputs": [
    {
     "name": "stdout",
     "output_type": "stream",
     "text": [
      "LR: 0.9224304826263643 (0.016896696790706833)\n",
      "CART: 0.8788289728018508 (0.015699385981533323)\n"
     ]
    }
   ],
   "source": [
    "# Evaluate each model in turn\n",
    "results = []\n",
    "names = []\n",
    "for name, model in models:\n",
    "    kfold = model_selection.KFold(n_splits=10, random_state=seed)\n",
    "    cv_results = model_selection.cross_val_score(model, X_train, y_train, cv=kfold, scoring=scoring)\n",
    "    results.append(cv_results)\n",
    "    names.append(name)\n",
    "    msg = \"{}: {} ({})\".format(name, cv_results.mean(), cv_results.std())\n",
    "    print(msg)"
   ]
  },
  {
   "cell_type": "code",
   "execution_count": 142,
   "metadata": {
    "collapsed": false
   },
   "outputs": [
    {
     "data": {
      "image/png": "[encoded data removed]",
      "text/plain": [
       "<matplotlib.figure.Figure at 0x7fc469c49550>"
      ]
     },
     "metadata": {},
     "output_type": "display_data"
    }
   ],
   "source": [
    "# Compare Algorithms\n",
    "fig = plt.figure()\n",
    "fig.suptitle('Algorithm Comparison')\n",
    "ax = fig.add_subplot(111)\n",
    "plt.boxplot(results)\n",
    "ax.set_xticklabels(names)\n",
    "plt.show()"
   ]
  },
  {
   "cell_type": "markdown",
   "metadata": {},
   "source": [
    "# Task 2"
   ]
  },
  {
   "cell_type": "code",
   "execution_count": 143,
   "metadata": {
    "collapsed": true
   },
   "outputs": [],
   "source": [
    "class BestClassifier(BaseEstimator, ClassifierMixin):\n",
    "    def __init__(self, classifiers):\n",
    "        self.classifiers = classifiers\n",
    "\n",
    "\n",
    "    def fit(self, X, y=None):\n",
    "        for cls in self.classifiers.values():\n",
    "            cls.fit(X, y)\n",
    "        self._fit = True\n",
    "        return self\n",
    "\n",
    "    \n",
    "    @staticmethod\n",
    "    def _get_prediction(predictions):\n",
    "        final_prediction = []\n",
    "        for pred_classes in predictions:\n",
    "            freqs = np.bincount(pred_classes)\n",
    "            most_freq = np.argwhere(freqs == np.amax(freqs))\n",
    "            size = most_freq.shape[0]\n",
    "            final_cls = np.random.choice(most_freq.reshape(size,))\n",
    "            final_prediction.append(final_cls)\n",
    "        \n",
    "        return np.array(final_prediction)\n",
    "\n",
    "    \n",
    "    def predict(self, X, y=None):\n",
    "        try:\n",
    "            getattr(self, \"_fit\")\n",
    "        except AttributeError:\n",
    "            raise RuntimeError(\"You must train classifer before predicting data!\")\n",
    "        \n",
    "        predictions = []\n",
    "        for cls in self.classifiers.values():\n",
    "            predictions.append(cls.predict(X)[np.newaxis, :])\n",
    "        return BestClassifier._get_prediction(np.concatenate(predictions).T)\n",
    "\n",
    "    \n",
    "    def score(self, X, y=None):\n",
    "        predictions = self.predict(X)\n",
    "        return accuracy_score(y, predictions)"
   ]
  },
  {
   "cell_type": "code",
   "execution_count": 147,
   "metadata": {
    "collapsed": true
   },
   "outputs": [],
   "source": [
    "def get_accuracy_info(cls, cls_name):\n",
    "    cls.fit(X_train, y_train)\n",
    "    predictions = cls.predict(X_validation)\n",
    "    print('Accuracy score of {}: {}'.format(cls_name, accuracy_score(y_validation, predictions)))"
   ]
  },
  {
   "cell_type": "code",
   "execution_count": 148,
   "metadata": {
    "collapsed": false
   },
   "outputs": [],
   "source": [
    "classifiers = {'KNN': KNeighborsClassifier(),\n",
    "               'SVM': SVC(),\n",
    "               'CART': DecisionTreeClassifier()\n",
    "              }"
   ]
  },
  {
   "cell_type": "code",
   "execution_count": 149,
   "metadata": {
    "collapsed": false
   },
   "outputs": [],
   "source": [
    "my_cls = BestClassifier(classifiers)"
   ]
  },
  {
   "cell_type": "markdown",
   "metadata": {},
   "source": [
    "### Comparision:"
   ]
  },
  {
   "cell_type": "code",
   "execution_count": 150,
   "metadata": {
    "collapsed": false
   },
   "outputs": [
    {
     "name": "stdout",
     "output_type": "stream",
     "text": [
      "Accuracy score of Best Classifier: 0.8388520971302428\n"
     ]
    }
   ],
   "source": [
    "get_accuracy_info(BestClassifier(classifiers), \"Best Classifier\")"
   ]
  },
  {
   "cell_type": "code",
   "execution_count": 151,
   "metadata": {
    "collapsed": false
   },
   "outputs": [
    {
     "name": "stdout",
     "output_type": "stream",
     "text": [
      "Accuracy score of KNN: 0.7549668874172185\n",
      "Accuracy score of SVM: 0.6401766004415012\n",
      "Accuracy score of CART: 0.8719646799116998\n"
     ]
    }
   ],
   "source": [
    "get_accuracy_info(KNeighborsClassifier(), \"KNN\")\n",
    "get_accuracy_info(SVC(), \"SVM\")\n",
    "get_accuracy_info(DecisionTreeClassifier(), \"CART\")"
   ]
  },
  {
   "cell_type": "markdown",
   "metadata": {},
   "source": [
    "### Best classifier here is 'LogisticRegression' so I couldn't find such assembly of multiple classifiers to make it better than 'LogisticRegression'"
   ]
  },
  {
   "cell_type": "code",
   "execution_count": 152,
   "metadata": {
    "collapsed": false
   },
   "outputs": [
    {
     "name": "stdout",
     "output_type": "stream",
     "text": [
      "Accuracy score of LR: 0.9072847682119205\n"
     ]
    }
   ],
   "source": [
    "get_accuracy_info(LogisticRegression(), \"LR\")"
   ]
  },
  {
   "cell_type": "code",
   "execution_count": null,
   "metadata": {
    "collapsed": true
   },
   "outputs": [],
   "source": []
  }
 ],
 "metadata": {
  "anaconda-cloud": {},
  "kernelspec": {
   "display_name": "Python [conda root]",
   "language": "python",
   "name": "conda-root-py"
  },
  "language_info": {
   "codemirror_mode": {
    "name": "ipython",
    "version": 3
   },
   "file_extension": ".py",
   "mimetype": "text/x-python",
   "name": "python",
   "nbconvert_exporter": "python",
   "pygments_lexer": "ipython3",
   "version": "3.5.2"
  }
 },
 "nbformat": 4,
 "nbformat_minor": 1
}
