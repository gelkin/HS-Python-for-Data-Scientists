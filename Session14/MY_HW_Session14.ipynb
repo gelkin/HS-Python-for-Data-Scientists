{
 "cells": [
  {
   "cell_type": "code",
   "execution_count": 158,
   "metadata": {
    "collapsed": true
   },
   "outputs": [],
   "source": [
    "import matplotlib.pyplot as plt\n",
    "import numpy as np\n",
    "from bs4 import BeautifulSoup as bs\n",
    "from sklearn.feature_extraction.text import HashingVectorizer\n",
    "from os import listdir\n",
    "from sklearn.neighbors import DistanceMetric\n",
    "from sklearn.cluster import DBSCAN\n",
    "from sklearn import metrics\n",
    "from sklearn.cluster import KMeans"
   ]
  },
  {
   "cell_type": "code",
   "execution_count": 2,
   "metadata": {
    "collapsed": true
   },
   "outputs": [],
   "source": [
    "path = \"./Data/\""
   ]
  },
  {
   "cell_type": "code",
   "execution_count": 3,
   "metadata": {
    "collapsed": true
   },
   "outputs": [],
   "source": [
    "def make_corpus_for_one(data):\n",
    "    bodies = []\n",
    "    for line in data:\n",
    "        parts_span = line.split('\"<span')\n",
    "        parts_mark_title = parts_span[0].split()\n",
    "        mark = int(parts_mark_title[0][0])\n",
    "        if mark in {1, 5}:\n",
    "            continue  # seems that such reviews are not really informative\n",
    "        body_html = \"<span\" + parts_span[1][:-1]\n",
    "        body_text = bs(body_html).text\n",
    "        bodies.append(body_text)\n",
    "    return bodies  # take only bodies"
   ]
  },
  {
   "cell_type": "code",
   "execution_count": 103,
   "metadata": {
    "collapsed": true
   },
   "outputs": [],
   "source": [
    "def make_corpus(path, n_max_files=2, n_features=1000, n_max_elements=5000):\n",
    "    bookname = []\n",
    "    X = []\n",
    "    y = []\n",
    "    hv = HashingVectorizer(n_features=n_features)\n",
    "    for filename in [f for f in listdir(path) if f.endswith('.csv')][:n_max_files]:\n",
    "        with open(path + filename, 'r') as file:\n",
    "            data = file.read().splitlines()[:n_max_elements]\n",
    "        bodies = make_corpus_for_one(data) # todo so far take only bodies\n",
    "        X.append(hv.transform(bodies).toarray())\n",
    "        y.append(np.repeat(len(bookname), len(bodies)))\n",
    "        bookname.append(filename.rstrip('.csv'))\n",
    "    return np.concatenate(X), np.concatenate(y), bookname"
   ]
  },
  {
   "cell_type": "code",
   "execution_count": 177,
   "metadata": {
    "collapsed": false
   },
   "outputs": [
    {
     "name": "stderr",
     "output_type": "stream",
     "text": [
      "/home/gelkin/.local/lib/python3.5/site-packages/bs4/__init__.py:181: UserWarning: No parser was explicitly specified, so I'm using the best available HTML parser for this system (\"lxml\"). This usually isn't a problem, but if you run this code on another system, or in a different virtual environment, it may use a different parser and behave differently.\n",
      "\n",
      "The code that caused this warning is on line 184 of the file /home/gelkin/Development/anaconda3/lib/python3.5/runpy.py. To get rid of this warning, change code that looks like this:\n",
      "\n",
      " BeautifulSoup([your markup])\n",
      "\n",
      "to this:\n",
      "\n",
      " BeautifulSoup([your markup], \"lxml\")\n",
      "\n",
      "  markup_type=markup_type))\n"
     ]
    }
   ],
   "source": [
    "X, y, bookname = make_corpus(path, n_max_files=2, n_features=1000, n_max_elements=5000)"
   ]
  },
  {
   "cell_type": "markdown",
   "metadata": {},
   "source": [
    "### Chosen clustering algorithms and metrics:"
   ]
  },
  {
   "cell_type": "code",
   "execution_count": 182,
   "metadata": {
    "collapsed": true
   },
   "outputs": [],
   "source": [
    "random_state = 132\n",
    "knn = KMeans(n_clusters=2, random_state=random_state).fit_predict(X)"
   ]
  },
  {
   "cell_type": "markdown",
   "metadata": {},
   "source": [
    "euclidean_distances = metrics.pairwise.pairwise_distances(X, metric='euclidean')\n",
    "manhattan_distances = metrics.pairwise.pairwise_distances(X, metric='manhattan')\n",
    "l1_distances  = metrics.pairwise.pairwise_distances(X, metric='l1')"
   ]
  },
  {
   "cell_type": "code",
   "execution_count": 181,
   "metadata": {
    "collapsed": true
   },
   "outputs": [],
   "source": [
    "db_euclidean = DBSCAN(metric=\"precomputed\").fit(euclidean_distances)\n",
    "db_manhattan = DBSCAN(metric=\"precomputed\").fit(manhattan_distances)\n",
    "db_l1 = DBSCAN(metric=\"precomputed\").fit(l1_distances)"
   ]
  },
  {
   "cell_type": "markdown",
   "metadata": {},
   "source": [
    "### Test perfomance"
   ]
  },
  {
   "cell_type": "code",
   "execution_count": 192,
   "metadata": {
    "collapsed": true
   },
   "outputs": [],
   "source": [
    "def check_clustering_perfomance(labels_true, labels):\n",
    "    print('Estimated number of clusters: %d' % n_clusters_)\n",
    "    print(\"Homogeneity: %0.3f\" % metrics.homogeneity_score(labels_true, labels))\n",
    "    print(\"Completeness: %0.3f\" % metrics.completeness_score(labels_true, labels))\n",
    "    print(\"V-measure: %0.3f\" % metrics.v_measure_score(labels_true, labels))\n",
    "    print(\"Adjusted Rand Index: %0.3f\"\n",
    "          % metrics.adjusted_rand_score(labels_true, labels))\n",
    "    print(\"Adjusted Mutual Information: %0.3f\"\n",
    "          % metrics.adjusted_mutual_info_score(labels_true, labels))"
   ]
  },
  {
   "cell_type": "code",
   "execution_count": 193,
   "metadata": {
    "collapsed": true
   },
   "outputs": [],
   "source": [
    "labels_true = y"
   ]
  },
  {
   "cell_type": "code",
   "execution_count": 194,
   "metadata": {
    "collapsed": false
   },
   "outputs": [],
   "source": [
    "labels_knn = knn\n",
    "labels_db_euclidean = db_euclidean.labels_\n",
    "labels_db_manhattan = db_manhattan.labels_\n",
    "labels_db_l1 = db_l1.labels_"
   ]
  },
  {
   "cell_type": "markdown",
   "metadata": {},
   "source": [
    "### Perfomance is really bad and strange"
   ]
  },
  {
   "cell_type": "code",
   "execution_count": 195,
   "metadata": {
    "collapsed": false
   },
   "outputs": [
    {
     "name": "stdout",
     "output_type": "stream",
     "text": [
      "Estimated number of clusters: 2\n",
      "Homogeneity: 0.005\n",
      "Completeness: 0.005\n",
      "V-measure: 0.005\n",
      "Adjusted Rand Index: -0.004\n",
      "Adjusted Mutual Information: 0.005\n"
     ]
    }
   ],
   "source": [
    "check_clustering_perfomance(labels_true, labels_knn)"
   ]
  },
  {
   "cell_type": "code",
   "execution_count": 196,
   "metadata": {
    "collapsed": false
   },
   "outputs": [
    {
     "name": "stdout",
     "output_type": "stream",
     "text": [
      "Estimated number of clusters: 2\n",
      "Homogeneity: 0.033\n",
      "Completeness: 0.158\n",
      "V-measure: 0.054\n",
      "Adjusted Rand Index: 0.043\n",
      "Adjusted Mutual Information: 0.032\n"
     ]
    }
   ],
   "source": [
    "check_clustering_perfomance(labels_true, labels_db_euclidean)"
   ]
  },
  {
   "cell_type": "code",
   "execution_count": 197,
   "metadata": {
    "collapsed": false
   },
   "outputs": [
    {
     "name": "stdout",
     "output_type": "stream",
     "text": [
      "Estimated number of clusters: 2\n",
      "Homogeneity: -0.000\n",
      "Completeness: 1.000\n",
      "V-measure: -0.000\n",
      "Adjusted Rand Index: 0.000\n",
      "Adjusted Mutual Information: -0.000\n"
     ]
    }
   ],
   "source": [
    "check_clustering_perfomance(labels_true, labels_db_l1)"
   ]
  },
  {
   "cell_type": "code",
   "execution_count": 198,
   "metadata": {
    "collapsed": false
   },
   "outputs": [
    {
     "name": "stdout",
     "output_type": "stream",
     "text": [
      "Estimated number of clusters: 2\n",
      "Homogeneity: -0.000\n",
      "Completeness: 1.000\n",
      "V-measure: -0.000\n",
      "Adjusted Rand Index: 0.000\n",
      "Adjusted Mutual Information: -0.000\n"
     ]
    }
   ],
   "source": [
    "check_clustering_perfomance(labels_true, labels_db_manhattan)"
   ]
  },
  {
   "cell_type": "code",
   "execution_count": null,
   "metadata": {
    "collapsed": true
   },
   "outputs": [],
   "source": []
  }
 ],
 "metadata": {
  "anaconda-cloud": {},
  "kernelspec": {
   "display_name": "Python [conda root]",
   "language": "python",
   "name": "conda-root-py"
  },
  "language_info": {
   "codemirror_mode": {
    "name": "ipython",
    "version": 3
   },
   "file_extension": ".py",
   "mimetype": "text/x-python",
   "name": "python",
   "nbconvert_exporter": "python",
   "pygments_lexer": "ipython3",
   "version": "3.5.2"
  }
 },
 "nbformat": 4,
 "nbformat_minor": 1
}
