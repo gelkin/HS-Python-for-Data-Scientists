{
 "cells": [
  {
   "cell_type": "markdown",
   "metadata": {},
   "source": [
    "# Task 1"
   ]
  },
  {
   "cell_type": "markdown",
   "metadata": {},
   "source": [
    "### Generate a generic 2D Gaussian-like array (Hint: checkout np.linspace function). Visualize the results."
   ]
  },
  {
   "cell_type": "code",
   "execution_count": 2,
   "metadata": {
    "collapsed": true
   },
   "outputs": [],
   "source": [
    "import numpy as np\n",
    "import matplotlib.pyplot as plt\n",
    "from scipy.stats import norm"
   ]
  },
  {
   "cell_type": "code",
   "execution_count": 3,
   "metadata": {
    "collapsed": true
   },
   "outputs": [],
   "source": [
    "x = np.linspace(-3, 3, num=10000)\n",
    "f = np.vectorize(norm.pdf)\n",
    "normal_x = f(x)"
   ]
  },
  {
   "cell_type": "code",
   "execution_count": 4,
   "metadata": {
    "collapsed": false
   },
   "outputs": [
    {
     "data": {
      "image/png": "[encoded data removed]",
      "text/plain": [
       "<matplotlib.figure.Figure at 0x7f5f5286e3c8>"
      ]
     },
     "metadata": {},
     "output_type": "display_data"
    }
   ],
   "source": [
    "plt.plot(x.reshape(len(x), 1), normal_x.reshape(len(normal_x), 1),  linewidth=2, color='r')\n",
    "plt.show()"
   ]
  },
  {
   "cell_type": "markdown",
   "metadata": {},
   "source": [
    "### How to tell if a given 2D array has null columns?"
   ]
  },
  {
   "cell_type": "code",
   "execution_count": 5,
   "metadata": {
    "collapsed": true
   },
   "outputs": [],
   "source": [
    "# len(data.shape) > 1 and data.shape[1] > 0"
   ]
  },
  {
   "cell_type": "markdown",
   "metadata": {},
   "source": [
    "### Consider the vector [1, 2, 3, 4, 5], how to build a new vector with 3 consecutive zeros interleaved between each value?"
   ]
  },
  {
   "cell_type": "code",
   "execution_count": 6,
   "metadata": {
    "collapsed": false
   },
   "outputs": [
    {
     "data": {
      "text/plain": [
       "array([0, 0, 0, 1, 0, 0, 0, 2, 0, 0, 0, 3, 0, 0, 0, 4, 0, 0, 0, 5])"
      ]
     },
     "execution_count": 6,
     "metadata": {},
     "output_type": "execute_result"
    }
   ],
   "source": [
    "x = np.array([1, 2, 3, 4, 5])\n",
    "y = x - 1\n",
    "indexes = np.repeat(y, 3)\n",
    "np.insert(x, indexes, 0)"
   ]
  },
  {
   "cell_type": "markdown",
   "metadata": {},
   "source": [
    "### Considering a 15x5 matrix, extract rows with unequal values (e.g. [1,2,2,3,4])."
   ]
  },
  {
   "cell_type": "code",
   "execution_count": null,
   "metadata": {
    "collapsed": true
   },
   "outputs": [],
   "source": [
    "# sample array\n",
    "x = np.random.randn(15, 5)\n",
    "\n",
    "# given array\n",
    "y = np.array([1, 2, 2, 3, 4])\n",
    "y = y.reshape(len(y), 1).T\n",
    "print(y)\n",
    "\n",
    "# calculate matrix of indicators for equality\n",
    "y = np.repeat(y, x.shape[0], axis=0)\n",
    "is_equal = x == y\n",
    "\n",
    "# print result\n",
    "acc = np.multiply.reduce(is_equal, axis=1)\n",
    "res, = np.nonzero(acc)\n",
    "print(\"Indexes of rows with elements equal to given:\")\n",
    "print(res)\n",
    "\n",
    "# test\n",
    "res_index = 1\n",
    "for i in range(5):\n",
    "    is_equal[res_index][i] = True\n",
    "acc = np.multiply.reduce(is_equal, axis=1)\n",
    "res, = np.nonzero(acc)\n",
    "print(\"Indexes of rows with elements equal to given:\")\n",
    "print(res)"
   ]
  },
  {
   "cell_type": "markdown",
   "metadata": {},
   "source": [
    "### Given an arbitrary number of vectors, build the cartesian product (every combinations of every item)."
   ]
  },
  {
   "cell_type": "code",
   "execution_count": 7,
   "metadata": {
    "collapsed": false
   },
   "outputs": [
    {
     "data": {
      "text/plain": [
       "array([[ 2.06159365,  0.35172837],\n",
       "       [-0.92844417,  0.35172837],\n",
       "       [ 2.06159365, -0.51381606],\n",
       "       [-0.92844417, -0.51381606],\n",
       "       [ 2.06159365, -1.5832321 ],\n",
       "       [-0.92844417, -1.5832321 ]])"
      ]
     },
     "execution_count": 7,
     "metadata": {},
     "output_type": "execute_result"
    }
   ],
   "source": [
    "x = np.random.randn(2)\n",
    "y = np.random.randn(3)\n",
    "z = np.random.randn(2, 3)\n",
    "\n",
    "# two arrays\n",
    "np.transpose([np.tile(x, len(y)), np.repeat(y, len(x))])"
   ]
  },
  {
   "cell_type": "code",
   "execution_count": 9,
   "metadata": {
    "collapsed": false
   },
   "outputs": [],
   "source": [
    "# many arrays\n",
    "def cartesian(arrays, out=None):\n",
    "    dtype = arrays[0].dtype\n",
    "\n",
    "    n = np.prod([x.size for x in arrays])\n",
    "    if out is None:\n",
    "        out = np.zeros([n, len(arrays)], dtype=dtype)\n",
    "\n",
    "    m = n / arrays[0].size\n",
    "    out[:,0] = np.repeat(arrays[0], m)\n",
    "    if arrays[1:]:\n",
    "        cartesian(arrays[1:], out=out[0:m,1:])\n",
    "        for j in range(1, arrays[0].size):\n",
    "            out[j*m:(j+1)*m,1:] = out[0:m,1:]\n",
    "    return out\n",
    "cartesian((x, y, z))"
   ]
  },
  {
   "cell_type": "markdown",
   "metadata": {},
   "source": [
    "### Consider a random vector with shape (100,2) representing coordinates, find point by point distances. "
   ]
  },
  {
   "cell_type": "code",
   "execution_count": 10,
   "metadata": {
    "collapsed": false
   },
   "outputs": [
    {
     "name": "stdout",
     "output_type": "stream",
     "text": [
      "[[ 0.83176324 -0.64256512]\n",
      " [-0.77100483  1.48151166]\n",
      " [-0.38753064 -1.69466632]\n",
      " [-0.71529225  1.21123801]\n",
      " [-0.69904209  1.39942063]\n",
      " [-1.15035921  0.12268514]]\n",
      "[ 0.          2.6609336   1.61046406  2.41453241  2.55207186  2.12471583\n",
      "  2.6609336   0.          3.1992435   0.27595604  0.10916763  1.41078675\n",
      "  1.61046406  3.1992435   0.          2.92433029  3.10972884  1.97095757\n",
      "  2.41453241  0.27595604  2.92433029  0.          0.18888295  1.17227582\n",
      "  2.55207186  0.10916763  3.10972884  0.18888295  0.          1.35415681\n",
      "  2.12471583  1.41078675  1.97095757  1.17227582  1.35415681  0.        ]\n"
     ]
    }
   ],
   "source": [
    "z = np.random.randn(6, 2)\n",
    "print(z)\n",
    "a = np.tile(z, (z.shape[0], 1))\n",
    "b = np.repeat(z, z.shape[0], axis=0)\n",
    "\n",
    "print(np.linalg.norm(a - b, axis=1))"
   ]
  },
  {
   "cell_type": "code",
   "execution_count": null,
   "metadata": {
    "collapsed": true
   },
   "outputs": [],
   "source": []
  }
 ],
 "metadata": {
  "anaconda-cloud": {},
  "kernelspec": {
   "display_name": "Python [conda root]",
   "language": "python",
   "name": "conda-root-py"
  },
  "language_info": {
   "codemirror_mode": {
    "name": "ipython",
    "version": 3
   },
   "file_extension": ".py",
   "mimetype": "text/x-python",
   "name": "python",
   "nbconvert_exporter": "python",
   "pygments_lexer": "ipython3",
   "version": "3.5.2"
  }
 },
 "nbformat": 4,
 "nbformat_minor": 1
}
