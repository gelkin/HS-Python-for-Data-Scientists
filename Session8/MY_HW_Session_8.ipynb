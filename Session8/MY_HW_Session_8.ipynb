{
 "cells": [
  {
   "cell_type": "markdown",
   "metadata": {},
   "source": [
    "### 1. Process all the files in the \"Data/LS_MS NL\" folder: extract all peak's isotope ratios and put this information in a pandas DataFrame. Use hierarchical indexing to be able to attribute different information to the acquired data (e.g. aminoacid name, sample name, dilution). Try to select the most convinient way to store all the information about the peaks in one DataFrame."
   ]
  },
  {
   "cell_type": "code",
   "execution_count": 1,
   "metadata": {
    "collapsed": true
   },
   "outputs": [],
   "source": [
    "import pandas as pd\n",
    "import numpy as np\n",
    "import matplotlib.pyplot as plt"
   ]
  },
  {
   "cell_type": "code",
   "execution_count": 38,
   "metadata": {
    "collapsed": true
   },
   "outputs": [],
   "source": [
    "def filter_labels(labels, chosen_labels):\n",
    "    filtered_labels = list(filter(lambda label: label.endswith(tuple(chosen_labels)), labels))\n",
    "    return filtered_labels\n",
    "\n",
    "\n",
    "def drop_zero_rows(df):\n",
    "    return df.loc[(df != 0).any(1)]\n",
    "\n",
    "\n",
    "def get_aminoacid_name(label):\n",
    "    return label.split()[0].split(\"_\")[-1].split(\".\")[0]\n",
    "\n",
    "\n",
    "def get_peak_name(label):\n",
    "    return \" \".join(label.split()[1:])\n",
    "\n",
    "\n",
    "def get_aminoacids(labels):\n",
    "    return set(get_aminoacid_name(label) for label in labels)\n",
    "\n",
    "\n",
    "def modify_index(df):\n",
    "    df_copy = df.copy()\n",
    "    df_copy.index = df_copy.index.map(get_peak_name)\n",
    "    return df_copy\n",
    "\n",
    "\n",
    "def make_one_ratios(df, chosen_label):\n",
    "    rows_indexes = filter_labels(df.index, [chosen_label])\n",
    "    df_rows = df.loc[rows_indexes]\n",
    "    df_sum = df_rows.sum(axis=1)\n",
    "    df_ratio = df_rows.div(df_sum, axis=0)\n",
    "    return df_ratio\n",
    "\n",
    "\n",
    "def make_all_ratios(df, chosen_peaks):\n",
    "    # todo suppose that: chosen_peaks = [\"peak area\", \"peak height\", \"peak m/z\", \"peak retention time\"]\n",
    "    df_area = make_one_ratios(df, chosen_peaks[0])\n",
    "    df_height = make_one_ratios(df, chosen_peaks[1])\n",
    "    df_mass = df.loc[filter_labels(df.index, [chosen_peaks[2]])]\n",
    "    df_time = df.loc[filter_labels(df.index, [chosen_peaks[3]])]\n",
    "    return pd.concat([df_area, df_height, df_time, df_mass])\n",
    "\n",
    "\n",
    "def process_df(df, chosen_peaks):\n",
    "    filtered_indexes = filter_labels(df.index, chosen_peaks)\n",
    "    return df.loc[filtered_indexes], filtered_indexes\n",
    "\n",
    "\n",
    "def make_df_with_hier_aminoacid(df, chosen_peaks):\n",
    "    filtered_df, filtered_labels = process_df(df, chosen_peaks)\n",
    "    filtered_df = make_all_ratios(filtered_df, chosen_peaks)\n",
    "    aminoacids = get_aminoacids(filtered_labels)\n",
    "    hier_by_aminoacid = {}\n",
    "    for aminoacid in aminoacids:\n",
    "        filt_df_by_acid = filtered_df[filtered_df.index.map(lambda x: get_aminoacid_name(x) == aminoacid)]\n",
    "        hier_by_aminoacid[aminoacid] = modify_index(filt_df_by_acid)\n",
    "    return pd.concat(hier_by_aminoacid)\n",
    "\n",
    "\n",
    "def make_df_with_hier_dilution(dfs, dilution_names, chosen_peaks):\n",
    "    hier_by_dilution = {}\n",
    "    for df, name in zip(dfs, dilution_names):\n",
    "        hier_by_dilution[name] = make_df_with_hier_aminoacid(df, chosen_peaks)\n",
    "    return pd.concat(hier_by_dilution)"
   ]
  },
  {
   "cell_type": "code",
   "execution_count": 39,
   "metadata": {
    "collapsed": true
   },
   "outputs": [],
   "source": [
    "directory = \"../Data/LS_MS NL\"\n",
    "path_NL = \"/NL.csv\"\n",
    "path_NL_5 = \"/NL_5.csv\"\n",
    "path_NL_20 = \"/NL_20.csv\"\n",
    "df_NL = pd.read_csv(directory + path_NL)\n",
    "df_NL_5 = pd.read_csv(directory + path_NL_5)\n",
    "df_NL_20 = pd.read_csv(directory + path_NL_20)"
   ]
  },
  {
   "cell_type": "code",
   "execution_count": 40,
   "metadata": {
    "collapsed": false
   },
   "outputs": [],
   "source": [
    "df_NL = df_NL.T\n",
    "df_NL_5 = df_NL_5.T\n",
    "df_NL_20 = df_NL_20.T\n",
    "\n",
    "df_NL = drop_zero_rows(df_NL)\n",
    "df_NL_5 = drop_zero_rows(df_NL_5)\n",
    "df_NL_20 = drop_zero_rows(df_NL_20)"
   ]
  },
  {
   "cell_type": "code",
   "execution_count": 41,
   "metadata": {
    "collapsed": true
   },
   "outputs": [],
   "source": [
    "chosen_peaks = [\"peak area\", \"peak height\", \"peak m/z\", \"peak retention time\"]\n",
    "dfs = [df_NL, df_NL_5, df_NL_20]\n",
    "dilution_names = [\"NL\", \"NL_5\", \"NL_20\"]"
   ]
  },
  {
   "cell_type": "code",
   "execution_count": 42,
   "metadata": {
    "collapsed": false
   },
   "outputs": [],
   "source": [
    "df = make_df_with_hier_dilution(dfs, dilution_names, chosen_peaks)"
   ]
  },
  {
   "cell_type": "code",
   "execution_count": 43,
   "metadata": {
    "collapsed": true
   },
   "outputs": [],
   "source": [
    "df.fillna(0, inplace=True)\n",
    "df.sort_index(inplace=True)"
   ]
  },
  {
   "cell_type": "markdown",
   "metadata": {
    "collapsed": true
   },
   "source": [
    "### 2. Use pandas functionality to find out how istope fraction's values change from one sample to another for a certain aminoacid and given retention time. Calculate the max and min values and the mean value.\n",
    "\n",
    "Misunderstanding:\n",
    "It seems that retention times are not equal for different samples. Then task doesn't really make sence as there will always be one value for given retention time."
   ]
  },
  {
   "cell_type": "markdown",
   "metadata": {},
   "source": [
    "### 3. Output all peak retention times for a given amino acid."
   ]
  },
  {
   "cell_type": "code",
   "execution_count": 44,
   "metadata": {
    "collapsed": true
   },
   "outputs": [],
   "source": [
    "def point_3(df, aminoacid):\n",
    "    res = df.loc(axis=0)[:,aminoacid,'peak retention time']\n",
    "    res.index = res.index.droplevel(level=(1, 2))  # drop useless indexes\n",
    "    res = res.loc[(res != 0).any(axis=1), (res != 0).any(axis=0)]\n",
    "    print(res)"
   ]
  },
  {
   "cell_type": "code",
   "execution_count": 45,
   "metadata": {
    "collapsed": false
   },
   "outputs": [
    {
     "name": "stdout",
     "output_type": "stream",
     "text": [
      "             18        19        20        37      38\n",
      "NL     2.350917  2.331783  2.331783  0.000000  0.0000\n",
      "NL_20  0.000000  0.000000  0.000000  2.255333  2.2793\n",
      "NL_5   2.305617  2.298467  2.329567  0.000000  0.0000\n"
     ]
    }
   ],
   "source": [
    "# Example\n",
    "aminoacid = 'GLY'\n",
    "point_3(df, aminoacid)"
   ]
  },
  {
   "cell_type": "markdown",
   "metadata": {},
   "source": [
    "### 4. For a given retention time output all the samples names, which have a peak detected at specified retention time."
   ]
  },
  {
   "cell_type": "code",
   "execution_count": 46,
   "metadata": {
    "collapsed": true
   },
   "outputs": [],
   "source": [
    "def almost_equal(x, y, eps=0.01):\n",
    "    return abs(x - y) < eps\n",
    "\n",
    "\n",
    "def point_4(df, ret_time):\n",
    "    res = df.loc(axis=0)[:,:,'peak retention time']\n",
    "    res = res.loc[(almost_equal(res, ret_time)).any(axis=1)]\n",
    "    print(list(res.index.droplevel(level=(1, 2))))"
   ]
  },
  {
   "cell_type": "code",
   "execution_count": 47,
   "metadata": {
    "collapsed": false
   },
   "outputs": [
    {
     "name": "stdout",
     "output_type": "stream",
     "text": [
      "['NL']\n"
     ]
    }
   ],
   "source": [
    "# Example\n",
    "ret_time = 2.350917\n",
    "point_4(df, ret_time)"
   ]
  },
  {
   "cell_type": "markdown",
   "metadata": {},
   "source": [
    "### 5. Group all the corresponding peaks of certain aminoacid detected in different samples by getting the mean value for every mass across all the corresponding samples. You might have to do something about missing values."
   ]
  },
  {
   "cell_type": "code",
   "execution_count": 48,
   "metadata": {
    "collapsed": true
   },
   "outputs": [],
   "source": [
    "def point_5(df, aminoacid):\n",
    "    res = df.loc(axis=0)[:,aminoacid,'peak m/z']\n",
    "    res.index = res.index.droplevel(level=(1, 2))  # drop useless indexes\n",
    "    res_mean = res.mean(axis=0)\n",
    "    print(res_mean.loc[np.nonzero(res_mean)])"
   ]
  },
  {
   "cell_type": "code",
   "execution_count": 49,
   "metadata": {
    "collapsed": false
   },
   "outputs": [
    {
     "name": "stdout",
     "output_type": "stream",
     "text": [
      "18    164.053335\n",
      "19    164.720001\n",
      "20    165.386668\n",
      "37     82.026667\n",
      "38     82.360001\n",
      "dtype: float64\n"
     ]
    }
   ],
   "source": [
    "# Example\n",
    "point_5(df, aminoacid)"
   ]
  },
  {
   "cell_type": "code",
   "execution_count": null,
   "metadata": {
    "collapsed": true
   },
   "outputs": [],
   "source": []
  }
 ],
 "metadata": {
  "anaconda-cloud": {},
  "kernelspec": {
   "display_name": "Python [conda root]",
   "language": "python",
   "name": "conda-root-py"
  },
  "language_info": {
   "codemirror_mode": {
    "name": "ipython",
    "version": 3
   },
   "file_extension": ".py",
   "mimetype": "text/x-python",
   "name": "python",
   "nbconvert_exporter": "python",
   "pygments_lexer": "ipython3",
   "version": "3.5.2"
  }
 },
 "nbformat": 4,
 "nbformat_minor": 1
}
