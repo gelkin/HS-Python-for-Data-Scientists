{
 "cells": [
  {
   "cell_type": "markdown",
   "metadata": {},
   "source": [
    "# Task 1"
   ]
  },
  {
   "cell_type": "code",
   "execution_count": 51,
   "metadata": {
    "collapsed": true
   },
   "outputs": [],
   "source": [
    "from netCDF4 import Dataset\n",
    "\n",
    "\n",
    "def CDF_to_CSV(filename):\n",
    "    dataset = Dataset(filename)\n",
    "    gmin = dataset.global_mass_min\n",
    "    gmax = dataset.global_mass_max\n",
    "    diff = int(round(gmax - gmin))\n",
    "    header = []\n",
    "    for i in range(diff + 1):\n",
    "        header.append(\",{}\".format(gmin + i))\n",
    "    rows = [\"\".join(header)]\n",
    "    coef = 1 / 60\n",
    "    times = dataset['scan_acquisition_time']\n",
    "    values = dataset['intensity_values']\n",
    "    for i in range(len(times)):\n",
    "        row = [str(times[i] * coef)]\n",
    "        for j in range(diff + 1):\n",
    "            row.append(\",{}\".format(values[i * (diff + 1) + j]))\n",
    "        rows.append(\"\".join(row))\n",
    "    \n",
    "    new_filename = filename.rstrip(\".CDF\") + \".csv\"\n",
    "    print(new_filename)\n",
    "    with open(new_filename, 'w') as file:\n",
    "        file.write(\"\\n\".join(rows))"
   ]
  },
  {
   "cell_type": "markdown",
   "metadata": {},
   "source": [
    "## Example:"
   ]
  },
  {
   "cell_type": "code",
   "execution_count": 49,
   "metadata": {
    "collapsed": false
   },
   "outputs": [
    {
     "name": "stdout",
     "output_type": "stream",
     "text": [
      "../Data/LS_MS Data CDF/2015_SEP_18_LUBA_4T1_MRM_TABL_M4_C13L_SER.csv\n"
     ]
    }
   ],
   "source": [
    "filename = '2015_SEP_18_LUBA_4T1_D10_MRM_TABL_M2_C13L_ASP.CDF'\n",
    "full_filename = '../Data/LS_MS Data CDF/' + filename\n",
    "file = Dataset(full_filename)\n",
    "CDF_to_CSV(full_filename)"
   ]
  },
  {
   "cell_type": "markdown",
   "metadata": {},
   "source": [
    "# Task 2"
   ]
  },
  {
   "cell_type": "code",
   "execution_count": 54,
   "metadata": {
    "collapsed": false
   },
   "outputs": [],
   "source": [
    "import pandas as pd\n",
    "\n",
    "url_iris = \"https://archive.ics.uci.edu/ml/machine-learning-databases/iris/iris.data\"\n",
    "iris_names = ['sepal-length', 'sepal-width', 'petal-length', 'petal-width', 'class']\n",
    "iris = pd.read_csv(url_iris, names=iris_names)\n",
    "\n",
    "\n",
    "url_ecoli = 'https://archive.ics.uci.edu/ml/machine-learning-databases/ecoli/ecoli.data'\n",
    "ecoli_names = ['Sequence Name', 'mcg', 'gvh', 'lip', 'chg', 'aac', 'alm1', 'alm2', 'class']\n",
    "ecoli =  pd.read_csv(url_ecoli, names=ecoli_names, sep='\\s+')\n"
   ]
  },
  {
   "cell_type": "markdown",
   "metadata": {},
   "source": [
    "## Example"
   ]
  },
  {
   "cell_type": "code",
   "execution_count": null,
   "metadata": {
    "collapsed": true
   },
   "outputs": [],
   "source": [
    "# iris\n",
    "print(iris)\n",
    "print(iris.shape)\n",
    "print(iris.describe())\n",
    "\n",
    "# ecoli\n",
    "print(ecoli)\n",
    "print(ecoli.shape)\n",
    "print(ecoli.describe())"
   ]
  }
 ],
 "metadata": {
  "anaconda-cloud": {},
  "kernelspec": {
   "display_name": "Python [conda root]",
   "language": "python",
   "name": "conda-root-py"
  },
  "language_info": {
   "codemirror_mode": {
    "name": "ipython",
    "version": 3
   },
   "file_extension": ".py",
   "mimetype": "text/x-python",
   "name": "python",
   "nbconvert_exporter": "python",
   "pygments_lexer": "ipython3",
   "version": "3.5.2"
  }
 },
 "nbformat": 4,
 "nbformat_minor": 1
}
